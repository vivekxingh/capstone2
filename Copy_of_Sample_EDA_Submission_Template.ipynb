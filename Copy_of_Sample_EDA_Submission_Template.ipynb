{
  "nbformat": 4,
  "nbformat_minor": 0,
  "metadata": {
    "colab": {
      "private_outputs": true,
      "provenance": [],
      "collapsed_sections": [
        "vncDsAP0Gaoa",
        "FJNUwmbgGyua",
        "w6K7xa23Elo4",
        "mDgbUHAGgjLW",
        "O_i_v8NEhb9l",
        "HhfV-JJviCcP",
        "Y3lxredqlCYt",
        "3RnN4peoiCZX",
        "x71ZqKXriCWQ",
        "7hBIi_osiCS2",
        "JlHwYmJAmNHm",
        "35m5QtbWiB9F",
        "PoPl-ycgm1ru",
        "H0kj-8xxnORC",
        "nA9Y7ga8ng1Z",
        "PBTbrJXOngz2",
        "u3PMJOP6ngxN",
        "dauF4eBmngu3",
        "bKJF3rekwFvQ",
        "MSa1f5Uengrz",
        "GF8Ens_Soomf",
        "0wOQAZs5pc--",
        "K5QZ13OEpz2H",
        "lQ7QKXXCp7Bj",
        "448CDAPjqfQr",
        "KSlN3yHqYklG",
        "t6dVpIINYklI",
        "ijmpgYnKYklI",
        "-JiQyfWJYklI",
        "EM7whBJCYoAo",
        "fge-S5ZAYoAp",
        "85gYPyotYoAp",
        "RoGjAbkUYoAp",
        "4Of9eVA-YrdM",
        "iky9q4vBYrdO",
        "F6T5p64dYrdO",
        "y-Ehk30pYrdP",
        "bamQiAODYuh1",
        "QHF8YVU7Yuh3",
        "GwzvFGzlYuh3",
        "qYpmQ266Yuh3",
        "OH-pJp9IphqM",
        "bbFf2-_FphqN",
        "_ouA3fa0phqN",
        "Seke61FWphqN",
        "PIIx-8_IphqN",
        "t27r6nlMphqO",
        "r2jJGEOYphqO",
        "b0JNsNcRphqO",
        "BZR9WyysphqO",
        "jj7wYXLtphqO",
        "eZrbJ2SmphqO",
        "rFu4xreNphqO",
        "YJ55k-q6phqO",
        "gCFgpxoyphqP",
        "OVtJsKN_phqQ",
        "lssrdh5qphqQ",
        "U2RJ9gkRphqQ",
        "1M8mcRywphqQ",
        "tgIPom80phqQ",
        "JMzcOPDDphqR",
        "x-EpHcCOp1ci",
        "X_VqEhTip1ck",
        "8zGJKyg5p1ck",
        "PVzmfK_Ep1ck",
        "n3dbpmDWp1ck",
        "ylSl6qgtp1ck",
        "ZWILFDl5p1ck",
        "M7G43BXep1ck",
        "Ag9LCva-p1cl",
        "E6MkPsBcp1cl",
        "2cELzS2fp1cl",
        "3MPXvC8up1cl",
        "NC_X3p0fY2L0",
        "UV0SzAkaZNRQ",
        "YPEH6qLeZNRQ",
        "q29F0dvdveiT",
        "EXh0U9oCveiU",
        "22aHeOlLveiV",
        "JcMwzZxoAimU",
        "8G2x9gOozGDZ",
        "gCX9965dhzqZ",
        "gIfDvo9L0UH2"
      ],
      "include_colab_link": true
    },
    "kernelspec": {
      "name": "python3",
      "display_name": "Python 3"
    },
    "language_info": {
      "name": "python"
    }
  },
  "cells": [
    {
      "cell_type": "markdown",
      "metadata": {
        "id": "view-in-github",
        "colab_type": "text"
      },
      "source": [
        "<a href=\"https://colab.research.google.com/github/vivekxingh/capstone2/blob/main/Copy_of_Sample_EDA_Submission_Template.ipynb\" target=\"_parent\"><img src=\"https://colab.research.google.com/assets/colab-badge.svg\" alt=\"Open In Colab\"/></a>"
      ]
    },
    {
      "cell_type": "markdown",
      "source": [
        "# **Project Name**    -\n",
        "\n"
      ],
      "metadata": {
        "id": "vncDsAP0Gaoa"
      }
    },
    {
      "cell_type": "markdown",
      "source": [
        "##### **Project Type**    - EDA/Regression/Classification/Unsupervised\n",
        "##### **Contribution**    - Individual (Vivek Singh)"
      ],
      "metadata": {
        "id": "beRrZCGUAJYm"
      }
    },
    {
      "cell_type": "markdown",
      "source": [
        "# **Project Summary -**"
      ],
      "metadata": {
        "id": "FJNUwmbgGyua"
      }
    },
    {
      "cell_type": "markdown",
      "source": [
        "This is a project of Exploratory Data Analysis(EDA) on a hotel booking dataset. This call Booking.com - Hotel Booking Analysis. In this project I can perform many kind of things like-Efficient approach to the problem statement, Data Exploration techniques and logic, Logic of handling missing values, and outliers, Visualization logic, How to form insights and understandings, Understanding of how your project is useful to stakeholder.\n",
        "\n",
        "The EDA will seek to provide insights and answer the following questions:\n",
        "\n",
        "Which type of hotel is most preferred by guests? How does lead time for booking vary across different arrival years, and what are the associated cancellation trends? Which country has the highest number of guests? What is the distribution of preferred meal types among hotel guests? What is the relationship between the average daily rate (ADR) and the total number of people? Which year recorded the highest number of bookings? Which distribution channel contributes most to ADR, thus increasing income? How does ADR vary across different months? Which distribution channel has the highest cancellation rate? Which distribution channel has the highest count of repeat guests? What is the distribution of market segments and distribution channels in hotel bookings? How are guests with babies distributed across different hotel types, and what are their booking cancellation rates? What is the distribution of hotel arrivals by year and month? The EDA process will begin with data cleaning to address any missing or erroneous data. Following this, the data will be explored using a variety of\n",
        "visualizations, such as scatter plots, histograms, and heatmaps, to identify patterns and relationships."
      ],
      "metadata": {
        "id": "F6v_1wHtG2nS"
      }
    },
    {
      "cell_type": "markdown",
      "source": [
        "# **GitHub Link -**"
      ],
      "metadata": {
        "id": "w6K7xa23Elo4"
      }
    },
    {
      "cell_type": "markdown",
      "source": [
        "Provide your GitHub Link here."
      ],
      "metadata": {
        "id": "h1o69JH3Eqqn"
      }
    },
    {
      "cell_type": "markdown",
      "source": [
        "# **Problem Statement**\n"
      ],
      "metadata": {
        "id": "yQaldy8SH6Dl"
      }
    },
    {
      "cell_type": "markdown",
      "source": [
        "Have you ever wondered when the best time of year to book a hotel room is? Or the optimal length of stay in order to get the best daily rate? What if you wanted to predict whether or not a hotel was likely to receive a disproportionately high number of special requests? This hotel booking dataset can help you explore those questions! This data set contains booking information for a city hotel and a resort hotel, and includes information such as when the booking was made, length of stay, the number of adults, children, and/or babies, and the number of available parking spaces, among other things. All personally identifying information has been removed from the data. Explore and analyse the data to discover important factors that govern the bookings."
      ],
      "metadata": {
        "id": "DpeJGUA3kjGy"
      }
    },
    {
      "cell_type": "markdown",
      "source": [
        "#### **Define Your Business Objective?**"
      ],
      "metadata": {
        "id": "PH-0ReGfmX4f"
      }
    },
    {
      "cell_type": "markdown",
      "source": [
        "1. Best time to book any hotel for best experience.\n",
        "2. Find out that the reason for booking cancellation.\n",
        "3. Find out the peak season.\n",
        "4. Suggestions to reduce cancellation.\n",
        "5. Increase hotels revenue."
      ],
      "metadata": {
        "id": "PhDvGCAqmjP1"
      }
    },
    {
      "cell_type": "markdown",
      "source": [
        "# **General Guidelines** : -  "
      ],
      "metadata": {
        "id": "mDgbUHAGgjLW"
      }
    },
    {
      "cell_type": "markdown",
      "source": [
        "1.   Well-structured, formatted, and commented code is required.\n",
        "2.   Exception Handling, Production Grade Code & Deployment Ready Code will be a plus. Those students will be awarded some additional credits.\n",
        "     \n",
        "     The additional credits will have advantages over other students during Star Student selection.\n",
        "       \n",
        "             [ Note: - Deployment Ready Code is defined as, the whole .ipynb notebook should be executable in one go\n",
        "                       without a single error logged. ]\n",
        "\n",
        "3.   Each and every logic should have proper comments.\n",
        "4. You may add as many number of charts you want. Make Sure for each and every chart the following format should be answered.\n",
        "        \n",
        "\n",
        "```\n",
        "# Chart visualization code\n",
        "```\n",
        "            \n",
        "\n",
        "*   Why did you pick the specific chart?\n",
        "*   What is/are the insight(s) found from the chart?\n",
        "* Will the gained insights help creating a positive business impact?\n",
        "Are there any insights that lead to negative growth? Justify with specific reason.\n",
        "\n",
        "5. You have to create at least 20 logical & meaningful charts having important insights.\n",
        "\n",
        "\n",
        "[ Hints : - Do the Vizualization in  a structured way while following \"UBM\" Rule.\n",
        "\n",
        "U - Univariate Analysis,\n",
        "\n",
        "B - Bivariate Analysis (Numerical - Categorical, Numerical - Numerical, Categorical - Categorical)\n",
        "\n",
        "M - Multivariate Analysis\n",
        " ]\n",
        "\n",
        "\n",
        "\n"
      ],
      "metadata": {
        "id": "ZrxVaUj-hHfC"
      }
    },
    {
      "cell_type": "markdown",
      "source": [
        "# ***Let's Begin !***"
      ],
      "metadata": {
        "id": "O_i_v8NEhb9l"
      }
    },
    {
      "cell_type": "markdown",
      "source": [
        "## ***1. Know Your Data***"
      ],
      "metadata": {
        "id": "HhfV-JJviCcP"
      }
    },
    {
      "cell_type": "markdown",
      "source": [
        "### Import Libraries"
      ],
      "metadata": {
        "id": "Y3lxredqlCYt"
      }
    },
    {
      "cell_type": "code",
      "source": [
        "# Importing libraries for he data analysis\n",
        "import pandas as pd     # here pd is an alias name for pandas\n",
        "import numpy as np      # here np is an alias name for numpy\n",
        "import warnings\n",
        "\n",
        " # importing libraries for visualisations\n",
        "import matplotlib.pyplot as plt   # plt is and alias name\n",
        "%matplotlib inline\n",
        "import seaborn as sns             # sns is an alias\n",
        "\n",
        "# importing ploty.express\n",
        "import plotly.express as px\n"
      ],
      "metadata": {
        "id": "M8Vqi-pPk-HR"
      },
      "execution_count": null,
      "outputs": []
    },
    {
      "cell_type": "code",
      "source": [
        "from google.colab import drive\n",
        "drive.mount('/content/drive')"
      ],
      "metadata": {
        "id": "twbDznKkpjS4"
      },
      "execution_count": null,
      "outputs": []
    },
    {
      "cell_type": "markdown",
      "source": [
        "### Dataset Loading"
      ],
      "metadata": {
        "id": "3RnN4peoiCZX"
      }
    },
    {
      "cell_type": "code",
      "source": [
        "# Loading Dataset\n",
        "hotel_df = pd.read_csv('/Hotel Bookings.csv')\n",
        "hotel_df"
      ],
      "metadata": {
        "id": "4CkvbW_SlZ_R"
      },
      "execution_count": null,
      "outputs": []
    },
    {
      "cell_type": "markdown",
      "source": [
        "### Dataset First View"
      ],
      "metadata": {
        "id": "x71ZqKXriCWQ"
      }
    },
    {
      "cell_type": "code",
      "source": [
        "# Dataset First Look\n",
        "#first five rows view\n",
        "hotel_df.head(5)"
      ],
      "metadata": {
        "id": "LWNFOSvLl09H"
      },
      "execution_count": null,
      "outputs": []
    },
    {
      "cell_type": "code",
      "source": [
        "# last 5 rows view\n",
        "hotel_df.tail(5)\n"
      ],
      "metadata": {
        "id": "eKVyrr-qu8xi"
      },
      "execution_count": null,
      "outputs": []
    },
    {
      "cell_type": "markdown",
      "source": [
        "### Dataset Rows & Columns count"
      ],
      "metadata": {
        "id": "7hBIi_osiCS2"
      }
    },
    {
      "cell_type": "code",
      "source": [
        "#Dataset Rows & Columns count\n",
        "print(f'Total number of rows: {hotel_df.shape[0]}\\nTotal number of columns :{hotel_df.shape[1]}')"
      ],
      "metadata": {
        "id": "Kllu7SJgmLij"
      },
      "execution_count": null,
      "outputs": []
    },
    {
      "cell_type": "markdown",
      "source": [
        "### Dataset Information"
      ],
      "metadata": {
        "id": "JlHwYmJAmNHm"
      }
    },
    {
      "cell_type": "code",
      "source": [
        "# Dataset Info\n",
        "hotel_df.info()"
      ],
      "metadata": {
        "id": "e9hRXRi6meOf"
      },
      "execution_count": null,
      "outputs": []
    },
    {
      "cell_type": "markdown",
      "source": [
        "#### Duplicate Values"
      ],
      "metadata": {
        "id": "35m5QtbWiB9F"
      }
    },
    {
      "cell_type": "code",
      "source": [
        "# Dataset Duplicate Value Count\n",
        "print(f'Total number of duplicate rows: {hotel_df.duplicated().sum()}')"
      ],
      "metadata": {
        "id": "1sLdpKYkmox0"
      },
      "execution_count": null,
      "outputs": []
    },
    {
      "cell_type": "markdown",
      "source": [
        "#### Missing Values/Null Values"
      ],
      "metadata": {
        "id": "PoPl-ycgm1ru"
      }
    },
    {
      "cell_type": "code",
      "source": [
        "# Missing Values/Null Values Count\n",
        "# Missing Values/Null Values Count\n",
        "null_value_count = hotel_df.isna().sum().sort_values(ascending = False)\n",
        "\n",
        "# Print only columns with missing values\n",
        "null_value_count = null_value_count[null_value_count > 0]\n",
        "print(f\"Number of null values these column contains:\\n\", null_value_count)\n"
      ],
      "metadata": {
        "id": "GgHWkxvamxVg"
      },
      "execution_count": null,
      "outputs": []
    },
    {
      "cell_type": "code",
      "source": [
        "# Visualizing the missing values\n",
        "# I create a heatmap\n",
        "plt.figure(figsize=(15, 4))\n",
        "\n",
        "sns.heatmap(hotel_df.isnull())\n",
        "plt.show()"
      ],
      "metadata": {
        "id": "3q5wnI3om9sJ"
      },
      "execution_count": null,
      "outputs": []
    },
    {
      "cell_type": "markdown",
      "source": [
        "### What did you know about your dataset?"
      ],
      "metadata": {
        "id": "H0kj-8xxnORC"
      }
    },
    {
      "cell_type": "markdown",
      "source": [
        "In this dataset contains a single file which compares various booking information between two hotels.It includes information such as when the booking was made, length of stay, the number of adults, children, and/or babies, and the number of available parking spaces, among other things. The dataset contains a total of 119390 rows and 32 columns. Dataset Contains duplicated items i.e 31944 which is removed later. Also it have null values in company, agent, country, children column. Company has extremely large number of null values as compared to other columns."
      ],
      "metadata": {
        "id": "gfoNAAC-nUe_"
      }
    },
    {
      "cell_type": "markdown",
      "source": [
        "## ***2. Understanding Your Variables***"
      ],
      "metadata": {
        "id": "nA9Y7ga8ng1Z"
      }
    },
    {
      "cell_type": "code",
      "source": [
        "# Dataset Columns\n",
        "list(hotel_df.columns)"
      ],
      "metadata": {
        "id": "j7xfkqrt5Ag5"
      },
      "execution_count": null,
      "outputs": []
    },
    {
      "cell_type": "code",
      "source": [
        "# Dataset Describe\n",
        "hotel_df.describe()"
      ],
      "metadata": {
        "id": "DnOaZdaE5Q5t"
      },
      "execution_count": null,
      "outputs": []
    },
    {
      "cell_type": "markdown",
      "source": [
        "### Variables Description"
      ],
      "metadata": {
        "id": "PBTbrJXOngz2"
      }
    },
    {
      "cell_type": "markdown",
      "source": [
        "**The columns and the data they represent are listed below:**\n",
        "\n",
        "1. **hotel**: Name of the hotel (Resort Hotel or City Hotel)\n",
        "\n",
        "2. **is canceled**: If the booking was canceled (1) or not (0)\n",
        "\n",
        "3. **lead time:** Number of days before the actual arrival of the guests\n",
        "\n",
        "4. **arrival date_year:** Year of arrival date\n",
        "\n",
        "5. **arrival_date_month:** Month of month arrival date\n",
        "\n",
        "6. **arrival_date_week_number:** Week number of year for arrival date\n",
        "\n",
        "7. **arrival_date_day_of_month:** Day of arrival date\n",
        "\n",
        "8. **stays in_weekend_nights:** Number of weekend nights (Saturday or Sunday) spent at the hotel by the guests.\n",
        "\n",
        "9. **stays in week_nights:** Number of weeknights (Monday to Friday) spent at the hotel by the guests.\n",
        "\n",
        "10. **adults:** Number of adults among guests\n",
        "\n",
        "11. **children:** Number of children among guests\n",
        "\n",
        "12. **bables:** Number of babies among guests\n",
        "\n",
        "13. **meal:** Type of meal booked\n",
        "\n",
        "14. **country:** Country of guests\n",
        "\n",
        "15. **market segment:** Designation of market segment\n",
        "\n",
        "16. **distribution channel:** Name of booking distribution channel\n",
        "\n",
        "17. **is repeated_guest:** If the booking was from a repeated guest (1) or not (0)\n",
        "\n",
        "18. **previous cancellations:** Number of previous bookings that were cancelled by the customer prior to the current booking\n",
        "\n",
        "19. **previous bookings_not_canceled:** Number of previous bookings not cancelled by the customer prior to the current booking\n",
        "\n",
        "20. **reserved room type:** Code of room type reserved\n",
        "\n",
        "21. **assigned_room type:** Code of room type assigned\n",
        "\n",
        "22. **booking changes:** Number of changes/amendments made to the booking\n",
        "\n",
        "23. **deposit type:** Type of the deposit made by the guest\n",
        "\n",
        "24. **agent:** ID of travel agent who made the booking\n",
        "\n",
        "25. **company:** ID of the company that made the booking\n",
        "\n",
        "26. **days in waiting list:** Number of days the booking was in the waiting list\n",
        "\n",
        "27. **customer type:** Type of customer, assuming one of four categories\n",
        "\n",
        "28. **adr:** Average Daily Rate, as defined by dividing the sum of all lodging transactions by the total number of staying nights\n",
        "\n",
        "29. **required car_parking spaces:** Number of car parking spaces required by the customer\n",
        "\n",
        "30. **total of special_requests:** Number of special requests made by the customer\n",
        "\n",
        "31. **reservation status:** Reservation status (Canceled, Check-Out or No Show)\n",
        "\n",
        "32. **reservation status date:** Date at which the last reservation status was updated"
      ],
      "metadata": {
        "id": "aJV4KIxSnxay"
      }
    },
    {
      "cell_type": "markdown",
      "source": [
        "### Check Unique Values for each variable."
      ],
      "metadata": {
        "id": "u3PMJOP6ngxN"
      }
    },
    {
      "cell_type": "code",
      "source": [
        "# Check Unique Values for each variable.\n",
        "print(hotel_df.apply(lambda col: col.unique()))"
      ],
      "metadata": {
        "id": "zms12Yq5n-jE"
      },
      "execution_count": null,
      "outputs": []
    },
    {
      "cell_type": "markdown",
      "source": [
        "## 3. ***Data Wrangling***"
      ],
      "metadata": {
        "id": "dauF4eBmngu3"
      }
    },
    {
      "cell_type": "markdown",
      "source": [
        "### Data Wrangling Code"
      ],
      "metadata": {
        "id": "bKJF3rekwFvQ"
      }
    },
    {
      "cell_type": "markdown",
      "source": [
        "**Dropping the duplicates**"
      ],
      "metadata": {
        "id": "w7cS7nW4xWm6"
      }
    },
    {
      "cell_type": "code",
      "source": [
        "# Write your code to make your dataset analysis ready.\n",
        "\n",
        "# Dropping duplicate values\n",
        "hotel_df.drop_duplicates(inplace = True)\n"
      ],
      "metadata": {
        "id": "wk-9a2fpoLcV"
      },
      "execution_count": null,
      "outputs": []
    },
    {
      "cell_type": "code",
      "source": [
        "# Count the total rows after removing duplicates\n",
        "print(f'Total number of rows after removing duplicates: {hotel_df.shape[0]}')"
      ],
      "metadata": {
        "id": "t4YzyZeawwpB"
      },
      "execution_count": null,
      "outputs": []
    },
    {
      "cell_type": "markdown",
      "source": [
        "**recalling null values**"
      ],
      "metadata": {
        "id": "QEehOL_Ow9DN"
      }
    },
    {
      "cell_type": "code",
      "source": [
        "# droping the company coloumn as it has highest null values\n",
        "hotel_df.drop(['company'], axis=1, inplace=True,errors='ignore')\n",
        "# replacing null values in children column with as there are only 4 missing values, assuming that family had e children\n",
        "hotel_df[['children','agent']] = hotel_df [['children','agent']].fillna (0)"
      ],
      "metadata": {
        "id": "1lQ2i13OxISm"
      },
      "execution_count": null,
      "outputs": []
    },
    {
      "cell_type": "code",
      "source": [
        "# replacing null values in country column as 'Others' assuming that user did not found their country name\n",
        "hotel_df['country'].fillna('Others', inplace=True)"
      ],
      "metadata": {
        "id": "xkRDjTw9xIIb"
      },
      "execution_count": null,
      "outputs": []
    },
    {
      "cell_type": "code",
      "source": [
        "# Checking that now there are no null values\n",
        "hotel_df.isna().sum().sort_values(ascending=False)"
      ],
      "metadata": {
        "id": "h6rb9q6Uyx0J"
      },
      "execution_count": null,
      "outputs": []
    },
    {
      "cell_type": "markdown",
      "source": [
        "**Changing data type**"
      ],
      "metadata": {
        "id": "giMtme3CxJgS"
      }
    },
    {
      "cell_type": "code",
      "source": [
        "# Showing the info() of the data to check datatype\n",
        "hotel_df.info()"
      ],
      "metadata": {
        "id": "vT6uwXR3xy5N"
      },
      "execution_count": null,
      "outputs": []
    },
    {
      "cell_type": "code",
      "source": [
        "# We have seen that children & agent column as datatype as float whereas it contains only int value, so changge datatype as int64\n",
        "hotel_df[['children', 'agent']] = hotel_df[['children', 'agent']].astype('int64',errors='ignore')"
      ],
      "metadata": {
        "id": "_Tk5-T0HxGoJ"
      },
      "execution_count": null,
      "outputs": []
    },
    {
      "cell_type": "code",
      "source": [
        "# For our undersytanding in column 'is_called' we will replace the value from (0,1) to not_cancelled, is cancelled.\n",
        "hotel_df['is_canceled'] = hotel_df['is_canceled'].replace([0,1], ['not_canceled', 'is_canceled'])"
      ],
      "metadata": {
        "id": "U5R01xUAxGO9"
      },
      "execution_count": null,
      "outputs": []
    },
    {
      "cell_type": "code",
      "source": [
        "# Same for 'is_repeated_guest' column\n",
        "hotel_df['is_repeated_guest'] = hotel_df['is_repeated_guest'].replace([0,1], ['not_repeated', 'repeated'])"
      ],
      "metadata": {
        "id": "_5AZLBfKxFtJ"
      },
      "execution_count": null,
      "outputs": []
    },
    {
      "cell_type": "markdown",
      "source": [
        "**Add new column**"
      ],
      "metadata": {
        "id": "ACFQi5P2x3Sk"
      }
    },
    {
      "cell_type": "code",
      "source": [
        "# total stay in nights\n",
        "# We have created a col for total stays in nights by adding week night & weekend nights stay col.\n",
        "# Corrected column name from 'stays in_week_nights' to 'stays_in_week_nights'\n",
        "hotel_df['total_stay_in_nights'] = hotel_df['stays_in_week_nights'] + hotel_df['stays_in_weekend_nights']"
      ],
      "metadata": {
        "id": "2CSjXyjyx3By"
      },
      "execution_count": null,
      "outputs": []
    },
    {
      "cell_type": "code",
      "source": [
        "# We have created a col for revenue using total stay adr\n",
        "hotel_df['revenue'] = hotel_df['total_stay_in_nights'] *hotel_df['adr']"
      ],
      "metadata": {
        "id": "PlitxklZx250"
      },
      "execution_count": null,
      "outputs": []
    },
    {
      "cell_type": "code",
      "source": [
        "# We have created a col for revenue using total stay adr\n",
        "hotel_df['revenue'] = hotel_df['total_stay_in_nights'] *hotel_df['adr']"
      ],
      "metadata": {
        "id": "rynAB2mEx2w8"
      },
      "execution_count": null,
      "outputs": []
    },
    {
      "cell_type": "markdown",
      "source": [
        "### What all manipulations have you done and insights you found?"
      ],
      "metadata": {
        "id": "MSa1f5Uengrz"
      }
    },
    {
      "cell_type": "markdown",
      "source": [
        "**1) Dropping duplicates:** Total number of duplicate values was 31994. First we have dropped these duplicates to clean the data. Now number of rows are after removing duplicates are 87396.\n",
        "\n",
        "**2) Handling Null Values:** 'children', 'country', 'agent', and 'company'. These are the column with null values and droping the company coloumn as it has highest null values\n",
        "\n",
        "* Then replacing null values in agent column with 0 assuming those rooms were booked without company/agent\n",
        "\n",
        "* Then I have filled null values in children column with 0 as there are only 4 missing values, assuming that family had 0 children.\n",
        "\n",
        "* Replacing null values in the country column with 'others'to avoid confusion.\n",
        "\n",
        "3) There are some rows with total number of adults, children or babies equal to zero, this means there is no any booking were made. So we have removed 166 rows having with 0 in adult, babies and children coloumn\n",
        "\n",
        "4) Childern & agent column datatype was float but it contains only int value, so change datatype as int64.\n",
        "\n",
        "5) for our understanding, in column 'is_canceled' we will replace the value from (0,1) to not_canceled, is canceled and same done for 'is_repeated_guest' column\n",
        "\n",
        "6) There are few columns required in Data to analysis purpose which is created from the given columns.\n",
        "\n",
        "Total Guests: This columns will help us to evaluate the volumes of total guest and revenue as well. We get this value by adding total no. of Adults, Children & babies.\n",
        "\n",
        "Revenue: We find revenue by multiplying adr & total guest. This column will use to analyse the profit and growth of each hotel."
      ],
      "metadata": {
        "id": "LbyXE7I1olp8"
      }
    },
    {
      "cell_type": "markdown",
      "source": [
        "## ***4. Data Vizualization, Storytelling & Experimenting with charts : Understand the relationships between variables***"
      ],
      "metadata": {
        "id": "GF8Ens_Soomf"
      }
    },
    {
      "cell_type": "markdown",
      "source": [
        "#### Chart - 1"
      ],
      "metadata": {
        "id": "0wOQAZs5pc--"
      }
    },
    {
      "cell_type": "code",
      "source": [
        "# Chart - 1 visualization code\n",
        "# Types of hotel preffered by guest\n",
        "# Count occurance of each hotel type in hotel column\n",
        "hotel_count = hotel_df['hotel'].value_counts()\n"
      ],
      "metadata": {
        "id": "7v_ESjsspbW7"
      },
      "execution_count": null,
      "outputs": []
    },
    {
      "cell_type": "code",
      "source": [
        "# Visualize data\n",
        "# Plot pie chart\n",
        "plt.figure(figsize=(6, 7))\n",
        "plt.pie(hotel_count, labels=hotel_count.index, autopct='%1.2f%%', startangle=50, explode=[0.05, 0.05], textprops={'fontsize':14})\n",
        "plt.title('Types of hotel preffered by guest')\n",
        "plt.legend(title = 'Hotel Type', bbox_to_anchor=(1.3, 0.7))\n",
        "plt.show()"
      ],
      "metadata": {
        "id": "3C9AintR0RP0"
      },
      "execution_count": null,
      "outputs": []
    },
    {
      "cell_type": "markdown",
      "source": [
        "##### 1. Why did you pick the specific chart?"
      ],
      "metadata": {
        "id": "K5QZ13OEpz2H"
      }
    },
    {
      "cell_type": "markdown",
      "source": [
        "**Pie chart helps in comparision of data and also it shows the fractional part of whole.**"
      ],
      "metadata": {
        "id": "XESiWehPqBRc"
      }
    },
    {
      "cell_type": "markdown",
      "source": [
        "##### 2. What is/are the insight(s) found from the chart?"
      ],
      "metadata": {
        "id": "lQ7QKXXCp7Bj"
      }
    },
    {
      "cell_type": "markdown",
      "source": [
        "***We can clearly see from visualisation that city has higher number of booking i.e. 61.1 percent and resort hotel has 38.9 percent booking only***"
      ],
      "metadata": {
        "id": "C_j1G7yiqdRP"
      }
    },
    {
      "cell_type": "markdown",
      "source": [
        "##### 3. Will the gained insights help creating a positive business impact?\n",
        "Are there any insights that lead to negative growth? Justify with specific reason."
      ],
      "metadata": {
        "id": "448CDAPjqfQr"
      }
    },
    {
      "cell_type": "markdown",
      "source": [
        "Gained sights helped in creating positive business impact as in city hotel it can provide more services to increase theie revenue. In resort hotel it can improve their services to attact customers."
      ],
      "metadata": {
        "id": "3cspy4FjqxJW"
      }
    },
    {
      "cell_type": "markdown",
      "source": [
        "#### Chart - 2"
      ],
      "metadata": {
        "id": "KSlN3yHqYklG"
      }
    },
    {
      "cell_type": "code",
      "source": [
        "# Chart - 2 visualization code\n",
        "# Count occurences of repeated and non repeated in is repeated col\n",
        "guest_repeat = hotel_df['is_repeated_guest'].value_counts()\n"
      ],
      "metadata": {
        "id": "R4YgtaqtYklH"
      },
      "execution_count": null,
      "outputs": []
    },
    {
      "cell_type": "code",
      "source": [
        "# Visualize the data\n",
        "# pie chart plotting\n",
        "plt.figure(figsize=(7,7))\n",
        "plt.pie(guest_repeat, labels=guest_repeat.index, autopct='%1.2f%%', startangle=140, explode=[0.2, 0.09], textprops={'fontsize':14})\n",
        "plt.legend()\n",
        "# Show chart\n",
        "plt.show()"
      ],
      "metadata": {
        "id": "NHy_pLX51Cjq"
      },
      "execution_count": null,
      "outputs": []
    },
    {
      "cell_type": "markdown",
      "source": [
        "##### 1. Why did you pick the specific chart?"
      ],
      "metadata": {
        "id": "t6dVpIINYklI"
      }
    },
    {
      "cell_type": "markdown",
      "source": [
        "To show the percentage share of repeated and non-repeated guests pie chart helps for comparision."
      ],
      "metadata": {
        "id": "5aaW0BYyYklI"
      }
    },
    {
      "cell_type": "markdown",
      "source": [
        "##### 2. What is/are the insight(s) found from the chart?"
      ],
      "metadata": {
        "id": "ijmpgYnKYklI"
      }
    },
    {
      "cell_type": "markdown",
      "source": [
        "*The number of repeated guests is very less as compared to overall guests, its only 3.86%*"
      ],
      "metadata": {
        "id": "PSx9atu2YklI"
      }
    },
    {
      "cell_type": "markdown",
      "source": [
        "##### 3. Will the gained insights help creating a positive business impact?\n",
        "Are there any insights that lead to negative growth? Justify with specific reason."
      ],
      "metadata": {
        "id": "-JiQyfWJYklI"
      }
    },
    {
      "cell_type": "markdown",
      "source": [
        "**Taking feedback from guests so that hotel can improve their services. Giving seasonal discounts and offers, can attract non repeating customers to visit hotel again that will have posotive impact on bussiness**"
      ],
      "metadata": {
        "id": "BcBbebzrYklV"
      }
    },
    {
      "cell_type": "markdown",
      "source": [
        "#### Chart - 3"
      ],
      "metadata": {
        "id": "EM7whBJCYoAo"
      }
    },
    {
      "cell_type": "code",
      "source": [
        "# Chart - 3 visualization code\n",
        "# Count of canceled and non_canceled booking\n",
        "cancel_count = hotel_df['is_canceled'].value_counts()"
      ],
      "metadata": {
        "id": "t6GMdE67YoAp"
      },
      "execution_count": null,
      "outputs": []
    },
    {
      "cell_type": "code",
      "source": [
        "# Visualize data\n",
        "# Plotting pie chart\n",
        "plt.figure(figsize=(5, 6))\n",
        "plt.pie(cancel_count, labels=cancel_count.index, autopct='%1.2f%%', startangle=90)\n",
        "plt.title('Percentage of cancelation')\n",
        "plt.show()"
      ],
      "metadata": {
        "id": "z7_0OLw11cDy"
      },
      "execution_count": null,
      "outputs": []
    },
    {
      "cell_type": "markdown",
      "source": [
        "**This charts presents the cancellation rate of the hotel booking.**"
      ],
      "metadata": {
        "id": "fge-S5ZAYoAp"
      }
    },
    {
      "cell_type": "markdown",
      "source": [
        "This charts presents the cancellation rate of the hotel booking.\n",
        "**bold text**"
      ],
      "metadata": {
        "id": "5dBItgRVYoAp"
      }
    },
    {
      "cell_type": "markdown",
      "source": [
        "Guests who cancelled around 27% and those who not camcelled are 72.51%"
      ],
      "metadata": {
        "id": "85gYPyotYoAp"
      }
    },
    {
      "cell_type": "markdown",
      "source": [
        "##### 3. Will the gained insights help creating a positive business impact?\n",
        "Are there any insights that lead to negative growth? Justify with specific reason."
      ],
      "metadata": {
        "id": "RoGjAbkUYoAp"
      }
    },
    {
      "cell_type": "markdown",
      "source": [
        "Around 72.51% guests not cancel their booking so, its a posible impact on hotel. rate of cancellation rate is 27.49%, from business persecptive cancellation rate is quit high. We need to find outthe reason of cancellation by taking feedback from guest."
      ],
      "metadata": {
        "id": "zfJ8IqMcYoAp"
      }
    },
    {
      "cell_type": "markdown",
      "source": [
        "#### Chart - 4"
      ],
      "metadata": {
        "id": "4Of9eVA-YrdM"
      }
    },
    {
      "cell_type": "code",
      "source": [
        "# Chart - 4 visualization code\n",
        "\n",
        "# Count occurences each meal type\n",
        "meal_count = hotel_df['meal'].value_counts()\n",
        "meal_count"
      ],
      "metadata": {
        "id": "irlUoxc8YrdO"
      },
      "execution_count": null,
      "outputs": []
    },
    {
      "cell_type": "code",
      "source": [
        "# Visualize the data\n",
        "plt.figure(figsize=(10,6))\n",
        "sns.countplot(x = 'meal', data=hotel_df, order=meal_count.index, hue='meal', palette='muted', legend=False)\n",
        "plt.title('Mostly prefered food by the guest', fontsize = 15, fontweight='bold')\n",
        "plt.xlabel('Type of food', fontsize = 15)\n",
        "plt.ylabel('Count of food type',fontsize = 15)\n",
        "plt.show()"
      ],
      "metadata": {
        "id": "YyRWN7du2KUy"
      },
      "execution_count": null,
      "outputs": []
    },
    {
      "cell_type": "markdown",
      "source": [
        "##### 1. Why did you pick the specific chart?"
      ],
      "metadata": {
        "id": "iky9q4vBYrdO"
      }
    },
    {
      "cell_type": "markdown",
      "source": [
        "I have choose barchart t o visulize most preferred food because it displays the count of each observation for each category and here we have to find which food is most preferred"
      ],
      "metadata": {
        "id": "aJRCwT6DYrdO"
      }
    },
    {
      "cell_type": "markdown",
      "source": [
        "##### 2. What is/are the insight(s) found from the chart?"
      ],
      "metadata": {
        "id": "F6T5p64dYrdO"
      }
    },
    {
      "cell_type": "markdown",
      "source": [
        "Bed and Breakfasts is the most preferred food bu 67978 guests\n",
        "Self catering and half board are equally preferred but vey less in comparison to BB\n",
        "Full board is least preferred foos i.e only 360 guest ordered it"
      ],
      "metadata": {
        "id": "Xx8WAJvtYrdO"
      }
    },
    {
      "cell_type": "markdown",
      "source": [
        "##### 3. Will the gained insights help creating a positive business impact?\n",
        "Are there any insights that lead to negative growth? Justify with specific reason."
      ],
      "metadata": {
        "id": "y-Ehk30pYrdP"
      }
    },
    {
      "cell_type": "markdown",
      "source": [
        "BB type of food is most preferred food this makes positive impact on business. Underfined and FB type of food is less preferred this insight makes negative impact on business"
      ],
      "metadata": {
        "id": "jLNxxz7MYrdP"
      }
    },
    {
      "cell_type": "markdown",
      "source": [
        "#### Chart - 5"
      ],
      "metadata": {
        "id": "bamQiAODYuh1"
      }
    },
    {
      "cell_type": "code",
      "source": [
        "# Chart - 5 visualization code\n",
        "# Count of room type booked by guest\n",
        "room_count = hotel_df['assigned_room_type'].value_counts()\n",
        "room_count"
      ],
      "metadata": {
        "id": "TIJwrbroYuh3"
      },
      "execution_count": null,
      "outputs": []
    },
    {
      "cell_type": "code",
      "source": [
        "# Visualize the data\n",
        "plt.figure(figsize = (10,6))\n",
        "sns.countplot(x = 'assigned_room_type', data=hotel_df, order=room_count.index, palette='muted',hue = 'assigned_room_type', legend = False)\n",
        "plt.title('Most type of room preferred by guests', fontsize = 15, fontweight='bold')\n",
        "plt.xlabel('Type of the room', fontsize = 15)\n",
        "plt.ylabel('Count of room type',fontsize = 15)\n",
        "plt.show()"
      ],
      "metadata": {
        "id": "EAPxlQO92fn2"
      },
      "execution_count": null,
      "outputs": []
    },
    {
      "cell_type": "markdown",
      "source": [
        "##### 1. Why did you pick the specific chart?"
      ],
      "metadata": {
        "id": "QHF8YVU7Yuh3"
      }
    },
    {
      "cell_type": "markdown",
      "source": [
        "I have choose countplot to visualize most prefferd roomtype because countplot display the count of each observation for each category and here we have to represent room type vs room type count"
      ],
      "metadata": {
        "id": "dcxuIMRPYuh3"
      }
    },
    {
      "cell_type": "markdown",
      "source": [
        "##### 2. What is/are the insight(s) found from the chart?"
      ],
      "metadata": {
        "id": "GwzvFGzlYuh3"
      }
    },
    {
      "cell_type": "markdown",
      "source": [
        "The insighte found from the chart is A type rooms are most prefered rooms and the count is 46283 and after that D type rooms are prefered by the guest and count is 22432.\n",
        "\n",
        "Least preffered room is P and L. P type room is preffered by only 6 and only 1 guest has booked L type room."
      ],
      "metadata": {
        "id": "uyqkiB8YYuh3"
      }
    },
    {
      "cell_type": "markdown",
      "source": [
        "##### 3. Will the gained insights help creating a positive business impact?\n",
        "Are there any insights that lead to negative growth? Justify with specific reason."
      ],
      "metadata": {
        "id": "qYpmQ266Yuh3"
      }
    },
    {
      "cell_type": "markdown",
      "source": [
        "A type rooms are most preferred rooms. This make positive impact on business. H,I,K,L type rooms are less preferred this insight makes neative impact. This is beacause type A rooms have 46283 bookings anf type L room has only one booking."
      ],
      "metadata": {
        "id": "_WtzZ_hCYuh4"
      }
    },
    {
      "cell_type": "markdown",
      "source": [
        "#### Chart - 6"
      ],
      "metadata": {
        "id": "OH-pJp9IphqM"
      }
    },
    {
      "cell_type": "code",
      "source": [
        "# Chart - 6 visualization code\n",
        "# Count top 10 agent with most booking\n",
        "top_agent = hotel_df['agent'].value_counts().reset_index().rename(columns={'index':'agent', 'agent':'num_of_bookings'}).head(10)\n",
        "\n",
        "# Rename column name of better understanding\n",
        "top_agent"
      ],
      "metadata": {
        "id": "kuRf4wtuphqN"
      },
      "execution_count": null,
      "outputs": []
    },
    {
      "cell_type": "code",
      "source": [
        "# Visualise the data\n",
        "plt.figure(figsize=(10,6))\n",
        "sns.countplot(x='agent', data = hotel_df, order = hotel_df['agent'].value_counts().index[:10], hue='agent',  palette='muted', legend=False)\n",
        "plt.title('Top 10 agent with most booking', fontsize = 15, fontweight='bold')\n",
        "plt.xlabel('Agent Number', fontsize = 15)\n",
        "plt.ylabel('Number of bookings',fontsize = 15)\n",
        "plt.show()"
      ],
      "metadata": {
        "id": "sCJa4Uq46Ld1"
      },
      "execution_count": null,
      "outputs": []
    },
    {
      "cell_type": "markdown",
      "source": [
        "##### 1. Why did you pick the specific chart?"
      ],
      "metadata": {
        "id": "bbFf2-_FphqN"
      }
    },
    {
      "cell_type": "markdown",
      "source": [
        "I choose barplot here because it gives data visualisation in pictorial form and due to this comparison of data is easy"
      ],
      "metadata": {
        "id": "loh7H2nzphqN"
      }
    },
    {
      "cell_type": "markdown",
      "source": [
        "##### 2. What is/are the insight(s) found from the chart?"
      ],
      "metadata": {
        "id": "_ouA3fa0phqN"
      }
    },
    {
      "cell_type": "markdown",
      "source": [
        "The insights found here is agent no.9 made most of the booking"
      ],
      "metadata": {
        "id": "VECbqPI7phqN"
      }
    },
    {
      "cell_type": "markdown",
      "source": [
        "##### 3. Will the gained insights help creating a positive business impact?\n",
        "Are there any insights that lead to negative growth? Justify with specific reason."
      ],
      "metadata": {
        "id": "Seke61FWphqN"
      }
    },
    {
      "cell_type": "markdown",
      "source": [
        "* Yes, Agent no.9, 240 has more bookins which makes positive impact.\n",
        "\n",
        "* Agent no. 1 and 6 has less bookins which makes neative impact.\n",
        "\n",
        "* Booking made by agent no 1 and 6 are about 4.27% of agent no 9 which has hihest bookings."
      ],
      "metadata": {
        "id": "DW4_bGpfphqN"
      }
    },
    {
      "cell_type": "markdown",
      "source": [
        "#### Chart - 7"
      ],
      "metadata": {
        "id": "PIIx-8_IphqN"
      }
    },
    {
      "cell_type": "code",
      "source": [
        "# Chart - 7 visualization code\n",
        "# Count occurrences of top 10 country in the country column\n",
        "top_ten_country = hotel_df['country'].value_counts().reset_index().head(10)\n",
        "top_ten_country"
      ],
      "metadata": {
        "id": "lqAIGUfyphqO"
      },
      "execution_count": null,
      "outputs": []
    },
    {
      "cell_type": "code",
      "source": [
        "# Visualizing by plotting the graph\n",
        "plt.figure(figsize=(10,6))\n",
        "\n",
        "sns.barplot(x='country', y='count', data=top_ten_country, palette='muted', hue = 'country', dodge=False)\n",
        "plt.xlabel('Country', fontsize = 15)\n",
        "plt.ylabel('Number of guests',fontsize = 15)\n",
        "plt.title('Top 10 country with most booking', fontsize = 15, fontweight='bold')\n",
        "plt.show()"
      ],
      "metadata": {
        "id": "1_psyj0D6p96"
      },
      "execution_count": null,
      "outputs": []
    },
    {
      "cell_type": "markdown",
      "source": [
        "##### 1. Why did you pick the specific chart?"
      ],
      "metadata": {
        "id": "t27r6nlMphqO"
      }
    },
    {
      "cell_type": "markdown",
      "source": [
        "Bar plots are effectivw for comparing numerical values, such as the numnber of guests in this case"
      ],
      "metadata": {
        "id": "iv6ro40sphqO"
      }
    },
    {
      "cell_type": "markdown",
      "source": [
        "##### 2. What is/are the insight(s) found from the chart?"
      ],
      "metadata": {
        "id": "r2jJGEOYphqO"
      }
    },
    {
      "cell_type": "markdown",
      "source": [
        "Most of the guests are coming from portugal i.e 25000 guests are from portugal"
      ],
      "metadata": {
        "id": "Po6ZPi4hphqO"
      }
    },
    {
      "cell_type": "markdown",
      "source": [
        "##### 3. Will the gained insights help creating a positive business impact?\n",
        "Are there any insights that lead to negative growth? Justify with specific reason."
      ],
      "metadata": {
        "id": "b0JNsNcRphqO"
      }
    },
    {
      "cell_type": "markdown",
      "source": [
        "*This* data can be used for attracting the remaining people of Portugal and other neighbouring contries, some schemes may be introduced or social media awareness, advertising may be increased to get more customers from nearby areas.\n",
        "\n",
        "Feedback gathered from these quests may be used to increase guests from other countries too and strategies may be planned according to this\n",
        "\n",
        "abbrevations for countries\n",
        "\n",
        "PRT- Portugal\n",
        "\n",
        "GB-United Kingdom\n",
        "\n",
        "FRA-France\n",
        "\n",
        "ESP Spain\n",
        "\n",
        "DEU-Germany\n",
        "\n",
        "ITA-thay\n",
        "\n",
        "IRL-Ireland\n",
        "\n",
        "BEL Belgium\n",
        "\n",
        "BRA-Braz\n",
        "\n",
        "NLD Netherlands"
      ],
      "metadata": {
        "id": "xvSq8iUTphqO"
      }
    },
    {
      "cell_type": "markdown",
      "source": [
        "#### Chart - 8"
      ],
      "metadata": {
        "id": "BZR9WyysphqO"
      }
    },
    {
      "cell_type": "code",
      "source": [
        "# Chart - 8 visualization code\n",
        "# Count of occurances of each disrtibution channel\n",
        "distribution_channel = hotel_df['distribution_channel'].value_counts()\n",
        "distribution_channel"
      ],
      "metadata": {
        "id": "TdPTWpAVphqO"
      },
      "execution_count": null,
      "outputs": []
    },
    {
      "cell_type": "code",
      "source": [
        "# Visualization\n",
        "plt.figure(figsize=(10,6))\n",
        "\n",
        "sns.countplot(x='distribution_channel', data=hotel_df, order=distribution_channel.index, palette='muted', hue='distribution_channel', legend=False)\n",
        "\n",
        "plt.title('Distribution channel with most booking', fontsize = 15, fontweight='bold')\n",
        "plt.xlabel('Distribution Channel', fontsize = 15)\n",
        "plt.ylabel('Number of bookings',fontsize = 15)\n",
        "plt.show()"
      ],
      "metadata": {
        "id": "azH5lQCU7OXu"
      },
      "execution_count": null,
      "outputs": []
    },
    {
      "cell_type": "markdown",
      "source": [
        "##### 1. Why did you pick the specific chart?"
      ],
      "metadata": {
        "id": "jj7wYXLtphqO"
      }
    },
    {
      "cell_type": "markdown",
      "source": [
        "The following chart represent maximum volume of booking done through which channel to represnt the numbers in descending order"
      ],
      "metadata": {
        "id": "Ob8u6rCTphqO"
      }
    },
    {
      "cell_type": "markdown",
      "source": [
        "##### 2. What is/are the insight(s) found from the chart?"
      ],
      "metadata": {
        "id": "eZrbJ2SmphqO"
      }
    },
    {
      "cell_type": "markdown",
      "source": [
        "Mostly used distribution channel is TA/TO channel. The total count of booking is 69141"
      ],
      "metadata": {
        "id": "mZtgC_hjphqO"
      }
    },
    {
      "cell_type": "markdown",
      "source": [
        "##### 3. Will the gained insights help creating a positive business impact?\n",
        "Are there any insights that lead to negative growth? Justify with specific reason."
      ],
      "metadata": {
        "id": "rFu4xreNphqO"
      }
    },
    {
      "cell_type": "markdown",
      "source": [
        "Distribution channel TA/TO is mostly used channel this makes positive impact.\n",
        "\n",
        "Distribution channel GDS and undefined is less used channels this makes negative impact.\n",
        "\n",
        "Use of TA/TO is 79.13% and use of GDS is 0.21%\n",
        "\n",
        "Other channels can provide those facilities which are provided by TA/TO channel."
      ],
      "metadata": {
        "id": "ey_0qi68phqO"
      }
    },
    {
      "cell_type": "markdown",
      "source": [
        "#### Chart - 9"
      ],
      "metadata": {
        "id": "YJ55k-q6phqO"
      }
    },
    {
      "cell_type": "code",
      "source": [
        "# Chart - 9 visualization code\n",
        "plt.figure(figsize=(10,6))\n",
        "\n",
        "# plot using countplot\n",
        "sns.countplot(x=hotel_df['arrival_date_year'], hue=hotel_df['hotel'])\n",
        "plt.title('Year wise booking', fontsize = 15, fontweight='bold')\n",
        "plt.xlabel('Year', fontsize = 15)\n",
        "plt.ylabel('Number of bookings',fontsize = 15)\n",
        "plt.show()"
      ],
      "metadata": {
        "id": "B2aS4O1ophqO"
      },
      "execution_count": null,
      "outputs": []
    },
    {
      "cell_type": "markdown",
      "source": [
        "##### 1. Why did you pick the specific chart?"
      ],
      "metadata": {
        "id": "gCFgpxoyphqP"
      }
    },
    {
      "cell_type": "markdown",
      "source": [
        "it is very Easy to understand\n"
      ],
      "metadata": {
        "id": "TVxDimi2phqP"
      }
    },
    {
      "cell_type": "markdown",
      "source": [
        "##### 2. What is/are the insight(s) found from the chart?"
      ],
      "metadata": {
        "id": "OVtJsKN_phqQ"
      }
    },
    {
      "cell_type": "markdown",
      "source": [
        "2016 has highest bookings and 2015 had lowest booking"
      ],
      "metadata": {
        "id": "ngGi97qjphqQ"
      }
    },
    {
      "cell_type": "markdown",
      "source": [
        "##### 3. Will the gained insights help creating a positive business impact?\n",
        "Are there any insights that lead to negative growth? Justify with specific reason."
      ],
      "metadata": {
        "id": "lssrdh5qphqQ"
      }
    },
    {
      "cell_type": "markdown",
      "source": [
        "For Resort hotel in year 2015 it was with least number of bookings and in 2016 it increased but in 2017 it again decreased, it means they have to find out the reasons for this using feedback of guest. For City hotel in year 2015 it was the lowest and in 2016 it was on peak and again it decreased in booking in 2017"
      ],
      "metadata": {
        "id": "tBpY5ekJphqQ"
      }
    },
    {
      "cell_type": "markdown",
      "source": [
        "#### Chart - 10"
      ],
      "metadata": {
        "id": "U2RJ9gkRphqQ"
      }
    },
    {
      "cell_type": "code",
      "source": [
        "# Chart - 10 visualization code\n",
        "#Using groupby funtion\n",
        "bookings_by_months_df = hotel_df.groupby(['arrival_date_month', 'hotel']) ['adr'].mean().reset_index()\n",
        "\n",
        "# Create month list\n",
        "months = ['January', 'February', 'March', 'April', 'May', 'June', 'July', 'August', 'September', 'October', 'November', 'December']\n",
        "\n",
        "#It will take the order of the month list in the dataframe along with values\n",
        "bookings_by_months_df[\"arrival_date_month\"] = pd.Categorical(bookings_by_months_df['arrival_date_month'], categories  = months, ordered = True)\n",
        "\n",
        "# Sorting values\n",
        "bookings_by_months_df = bookings_by_months_df.sort_values('arrival_date_month')\n",
        "\n"
      ],
      "metadata": {
        "id": "GM7a4YP4phqQ"
      },
      "execution_count": null,
      "outputs": []
    },
    {
      "cell_type": "code",
      "source": [
        "# Setting the chart size\n",
        "plt.figure(figsize=(15,5))\n",
        "\n",
        "# Plotting the values in a line chart\n",
        "sns.lineplot(x=bookings_by_months_df['arrival_date_month'], y = bookings_by_months_df['adr'], hue = bookings_by_months_df['hotel'])\n",
        "\n",
        "#Setting the labels and title\n",
        "plt.title('ADB across each month', fontsize=20)\n",
        "plt.xlabel('Month Name', fontsize=17)\n",
        "plt.ylabel('ADR', fontsize=12)\n",
        "plt.show()"
      ],
      "metadata": {
        "id": "thf7duu77zgn"
      },
      "execution_count": null,
      "outputs": []
    },
    {
      "cell_type": "markdown",
      "source": [
        "##### 1. Why did you pick the specific chart?"
      ],
      "metadata": {
        "id": "1M8mcRywphqQ"
      }
    },
    {
      "cell_type": "markdown",
      "source": [
        "I have used line plot in this case because it effectively shows the trend of ADR over time"
      ],
      "metadata": {
        "id": "8agQvks0phqQ"
      }
    },
    {
      "cell_type": "markdown",
      "source": [
        "##### 2. What is/are the insight(s) found from the chart?"
      ],
      "metadata": {
        "id": "tgIPom80phqQ"
      }
    },
    {
      "cell_type": "markdown",
      "source": [
        "City Hotel: It is clear that City Hotel generates more revenue in May months in comparison to other months.\n",
        "\n",
        "Resort Hotel: Resort Hotel generates more revenue in between July and August months."
      ],
      "metadata": {
        "id": "Qp13pnNzphqQ"
      }
    },
    {
      "cell_type": "markdown",
      "source": [
        "##### 3. Will the gained insights help creating a positive business impact?\n",
        "Are there any insights that lead to negative growth? Justify with specific reason."
      ],
      "metadata": {
        "id": "JMzcOPDDphqR"
      }
    },
    {
      "cell_type": "markdown",
      "source": [
        "With the knowledge that City Hotel generates more revenue in May and Resort Hotel generates more revenue between July and August, hotels can focus marketing, promotions, and special offer to attract more guests during these peak months."
      ],
      "metadata": {
        "id": "R4Ka1PC2phqR"
      }
    },
    {
      "cell_type": "markdown",
      "source": [
        "#### Chart - 11"
      ],
      "metadata": {
        "id": "x-EpHcCOp1ci"
      }
    },
    {
      "cell_type": "code",
      "source": [
        "# Chart - 11 visualization code\n",
        "plt.figure(figsize=(10,6))\n",
        "sns.countplot(x=hotel_df['arrival_date_month'], hue = hotel_df['hotel'])\n",
        "plt.title('Number of booking across months', fontsize=20)\n",
        "plt.show()"
      ],
      "metadata": {
        "id": "mAQTIvtqp1cj"
      },
      "execution_count": null,
      "outputs": []
    },
    {
      "cell_type": "markdown",
      "source": [
        "##### 1. Why did you pick the specific chart?"
      ],
      "metadata": {
        "id": "X_VqEhTip1ck"
      }
    },
    {
      "cell_type": "markdown",
      "source": [
        "Count plots are used when you want to compare the counts of different categories. In this case, it allows us to visually compare the number of bookings made for each month by hotel type"
      ],
      "metadata": {
        "id": "-vsMzt_np1ck"
      }
    },
    {
      "cell_type": "markdown",
      "source": [
        "##### 2. What is/are the insight(s) found from the chart?"
      ],
      "metadata": {
        "id": "8zGJKyg5p1ck"
      }
    },
    {
      "cell_type": "markdown",
      "source": [
        "The highest number of bookings appear to be in July and August. Lowest booking months: December, January and February appear to be the months with the fewest bookings."
      ],
      "metadata": {
        "id": "ZYdMsrqVp1ck"
      }
    },
    {
      "cell_type": "markdown",
      "source": [
        "##### 3. Will the gained insights help creating a positive business impact?\n",
        "Are there any insights that lead to negative growth? Justify with specific reason."
      ],
      "metadata": {
        "id": "PVzmfK_Ep1ck"
      }
    },
    {
      "cell_type": "markdown",
      "source": [
        "There is negative insight but hotel can use this insight to arrange everything in advance and welcome their guest in the best way possible and hotel can also run some promotional offer in these 2 months to attract more guests."
      ],
      "metadata": {
        "id": "druuKYZpp1ck"
      }
    },
    {
      "cell_type": "markdown",
      "source": [
        "#### Chart - 12"
      ],
      "metadata": {
        "id": "n3dbpmDWp1ck"
      }
    },
    {
      "cell_type": "code",
      "source": [
        "# Chart - 12 visualization code\n",
        "# Grouping dist_channel and hotels on their ADR\n",
        "distribution_channel = hotel_df.groupby(['distribution_channel', 'hotel'])['adr'].mean().reset_index()\n",
        "\n",
        "# Visualization using barplot\n",
        "sns.barplot(x='distribution_channel', y='adr', hue='hotel', data=distribution_channel)\n",
        "plt.title('Distribution channel with highest ADR', fontsize = 15, fontweight='bold')\n",
        "plt.xlabel('Distribution Channel', fontsize = 15)\n",
        "plt.ylabel('ADR',fontsize = 15)\n",
        "plt.show()"
      ],
      "metadata": {
        "id": "bwevp1tKp1ck"
      },
      "execution_count": null,
      "outputs": []
    },
    {
      "cell_type": "markdown",
      "source": [
        "##### 1. Why did you pick the specific chart?"
      ],
      "metadata": {
        "id": "ylSl6qgtp1ck"
      }
    },
    {
      "cell_type": "markdown",
      "source": [
        "I use here barplot to visualise ADR across distribution channel beacuse it give easy to undertand visualization to large data."
      ],
      "metadata": {
        "id": "m2xqNkiQp1ck"
      }
    },
    {
      "cell_type": "markdown",
      "source": [
        "##### 2. What is/are the insight(s) found from the chart?"
      ],
      "metadata": {
        "id": "ZWILFDl5p1ck"
      }
    },
    {
      "cell_type": "markdown",
      "source": [
        "Answer Here"
      ],
      "metadata": {
        "id": "x-lUsV2mp1ck"
      }
    },
    {
      "cell_type": "markdown",
      "source": [
        "##### 3. Will the gained insights help creating a positive business impact?\n",
        "Are there any insights that lead to negative growth? Justify with specific reason."
      ],
      "metadata": {
        "id": "M7G43BXep1ck"
      }
    },
    {
      "cell_type": "markdown",
      "source": [
        "The insight find from the above chart is that GDS channel contributed most in ADR in city hotel and Direct and TA/TO has nearly equal contribution in adr in both hotel types."
      ],
      "metadata": {
        "id": "5wwDJXsLp1cl"
      }
    },
    {
      "cell_type": "markdown",
      "source": [
        "#### Chart - 13"
      ],
      "metadata": {
        "id": "Ag9LCva-p1cl"
      }
    },
    {
      "cell_type": "code",
      "source": [
        "# Chart - 13 visualization code\n",
        "sns.boxplot(x='hotel', y='lead_time', data=hotel_df)\n",
        "plt.title('Lead time across different hotel types', fontsize = 15, fontweight='bold')\n",
        "plt.xlabel('Hotel Type', fontsize = 15)\n",
        "plt.ylabel('Lead Time',fontsize = 15)\n",
        "plt.show()"
      ],
      "metadata": {
        "id": "EUfxeq9-p1cl"
      },
      "execution_count": null,
      "outputs": []
    },
    {
      "cell_type": "markdown",
      "source": [
        "##### 1. Why did you pick the specific chart?"
      ],
      "metadata": {
        "id": "E6MkPsBcp1cl"
      }
    },
    {
      "cell_type": "markdown",
      "source": [
        "The boxplot chart illustrates the variation in lead time (the duration between booking and arrival) across different hotel types."
      ],
      "metadata": {
        "id": "V22bRsFWp1cl"
      }
    },
    {
      "cell_type": "markdown",
      "source": [
        "##### 2. What is/are the insight(s) found from the chart?"
      ],
      "metadata": {
        "id": "2cELzS2fp1cl"
      }
    },
    {
      "cell_type": "markdown",
      "source": [
        "The box plot compares the lead time (how far in advance people book) for Resort Hotels and City Hotels. It shows that Resort Hotels generally have a longer lead time, with more bookings made far in advance. The median lead time (the middle value) is higher for Resort Hotels compared to City Hotels. Additionally, Resort Hotels have more extreme outliers, indicating that some bookings are made very far in advance. This suggests that guests tend to plan their stays at Resort Hotels earlier than those at City Hotels"
      ],
      "metadata": {
        "id": "ozQPc2_Ip1cl"
      }
    },
    {
      "cell_type": "markdown",
      "source": [
        "##### 3. Will the gained insights help creating a positive business impact?\n",
        "Are there any insights that lead to negative growth? Justify with specific reason."
      ],
      "metadata": {
        "id": "3MPXvC8up1cl"
      }
    },
    {
      "cell_type": "markdown",
      "source": [
        "By understanding the average lead time for different hotel types, the business can communicate realistic expectations to guests, especially regarding the time required for booking confirmation and preparation before arrival."
      ],
      "metadata": {
        "id": "GL8l1tdLp1cl"
      }
    },
    {
      "cell_type": "markdown",
      "source": [
        "#### Chart - 14 - Correlation Heatmap"
      ],
      "metadata": {
        "id": "NC_X3p0fY2L0"
      }
    },
    {
      "cell_type": "code",
      "source": [
        "# Correlation Heatmap visualization code\n",
        "numeric_columns = hotel_df.select_dtypes(include=['int64', 'float64']).columns\n",
        "\n",
        "# Caluculating the correction matrix\n",
        "correlation_matrix = hotel_df[numeric_columns].corr()\n",
        "\n",
        "# Plotting the heatmap\n",
        "plt.figure(figsize=(10, 8))\n",
        "sns.heatmap(correlation_matrix, annot=True, cmap='coolwarm', fmt=\".2f\", linewidths=0.5)\n",
        "plt.title('Correlation Heatmap', fontsize = 15, fontweight='bold')\n",
        "plt.show()"
      ],
      "metadata": {
        "id": "xyC9zolEZNRQ"
      },
      "execution_count": null,
      "outputs": []
    },
    {
      "cell_type": "markdown",
      "source": [
        "##### 1. Why did you pick the specific chart?"
      ],
      "metadata": {
        "id": "UV0SzAkaZNRQ"
      }
    },
    {
      "cell_type": "markdown",
      "source": [
        "I chose a heatmap to visualize the correlation matrix because it is an effective way to represent the relationships between multiple numeric variables in a dataset. Heatmaps provide a clear, intuitive visual representation of how variables correlate with each other, with color gradients indicating the strength and direction (positive or negative) of these correlations."
      ],
      "metadata": {
        "id": "DVPuT8LYZNRQ"
      }
    },
    {
      "cell_type": "markdown",
      "source": [
        "##### 2. What is/are the insight(s) found from the chart?"
      ],
      "metadata": {
        "id": "YPEH6qLeZNRQ"
      }
    },
    {
      "cell_type": "markdown",
      "source": [
        "There appears to be a positive correlation between 'total stay_in_nights' and 'revenue'. This means that the higher the number of nights a guest stays, the higher the revenue generated by the hotel. There is also a positive correlation between 'total_guest' and 'total_stay_in_nights' and 'revenue'. So, bookings with more guests and a longer duration tend to generate more revenue for the hotel"
      ],
      "metadata": {
        "id": "bfSqtnDqZNRR"
      }
    },
    {
      "cell_type": "markdown",
      "source": [
        "#### Chart - 15 - Pair Plot"
      ],
      "metadata": {
        "id": "q29F0dvdveiT"
      }
    },
    {
      "cell_type": "code",
      "source": [
        "plt.figure(figsize=(15,10))\n",
        "sns.set_style('whitegrid')\n",
        "sns.pairplot(data = hotel_df[hotel_df['adr']<500][['hotel','adr','total_stay_in_nights']], height=3, aspect=0.8, hue = 'hotel')\n",
        "plt.show()"
      ],
      "metadata": {
        "id": "o58-TEIhveiU"
      },
      "execution_count": null,
      "outputs": []
    },
    {
      "cell_type": "markdown",
      "source": [
        "##### 1. Why did you pick the specific chart?"
      ],
      "metadata": {
        "id": "EXh0U9oCveiU"
      }
    },
    {
      "cell_type": "markdown",
      "source": [
        "A pairs plot allows us to see both distribution of single variables and relationships between two variables .It is also a great method to identify trends for follow-up analysis."
      ],
      "metadata": {
        "id": "eMmPjTByveiU"
      }
    },
    {
      "cell_type": "markdown",
      "source": [
        "##### 2. What is/are the insight(s) found from the chart?"
      ],
      "metadata": {
        "id": "22aHeOlLveiV"
      }
    },
    {
      "cell_type": "markdown",
      "source": [
        "It appears that there might be a weak positive correlation between the ADR and the total number of guests. This means that hotels with a higher ADR tend to have a slightly higher number of guests. However, it's important to note that the correlation is weak, and there is a lot of variability in the data.\n",
        "\n",
        "We can also see that there seems to be a difference in the distribution of ADR between resort hotels and city hotels. The histogram of the ADR for resort hotels (blue) appears to be shifted to the right compared to the histogram of the ADR for city hotels (orange). This suggests that resort hotels tend to have a higher ADR than city hotels."
      ],
      "metadata": {
        "id": "uPQ8RGwHveiV"
      }
    },
    {
      "cell_type": "markdown",
      "source": [
        "## **5. Solution to Business Objective**"
      ],
      "metadata": {
        "id": "JcMwzZxoAimU"
      }
    },
    {
      "cell_type": "markdown",
      "source": [
        "#### What do you suggest the client to achieve Business Objective ?\n",
        "Explain Briefly."
      ],
      "metadata": {
        "id": "8G2x9gOozGDZ"
      }
    },
    {
      "cell_type": "markdown",
      "source": [
        "Reasons for Booking Cancellations:\n",
        "\n",
        "They look at reasons like plans changing, finding better deals somewhere else, or not liking something about the booking. By asking guests directly through surveys, hotels can learn exactly why people cancel. This helps hotels make changes to keep more bookings and make guests happier.\n",
        "\n",
        "Best Time to Book Hotel:\n",
        "\n",
        "They look at when most people book and how early they do it. By using data to predict when more people will want to book, hotels can change prices to attract more guests. They also offer discounts and deals at times when fewer people usually book to get more guests to come.\n",
        "\n",
        "Peak Season:\n",
        "\n",
        "By knowing this, hotels can plan better to have enough staff and rooms available when lots of people want to stay. They also advertise more during these busy times to make more money.\n",
        "\n",
        "Suggestions to Reduce Cancellations:\n",
        "\n",
        "Hotels can do things to make fewer people cancel their bookings. They can let guests change or cancel their bookings easily without extra fees. Hotels also need to communicate well with guests before and after they book to make sure guests know what to expect. This helps guests feel more comfortable and less likely to cancel.\n",
        "\n",
        "Increase Revenue of Hotels: They do this by changing room prices based on how many people want to stay and what other hotels are doing. Hotels also try to sell more things to guests like upgraded rooms or special packages. By working with local businesses, hotels can offer unique deals that attract more guests and make more money."
      ],
      "metadata": {
        "id": "pASKb0qOza21"
      }
    },
    {
      "cell_type": "markdown",
      "source": [
        "# **Conclusion**"
      ],
      "metadata": {
        "id": "gCX9965dhzqZ"
      }
    },
    {
      "cell_type": "markdown",
      "source": [
        "These are some conclusions that we get after performing EDA.\n",
        "\n",
        "City hotel is mostly preferred hotel by guests.\n",
        "\n",
        "Percentage of repeated guest is less which is 3.86%.\n",
        "\n",
        "Cancellation rate is 27%.\n",
        "\n",
        "Mostly preferred food type is BBtype food.\n",
        "\n",
        "Room type A is mostly preferred room type.\n",
        "\n",
        "Agent no. 9 made the most bookings.\n",
        "\n",
        "Most guests are coming from Portugal.\n",
        "\n",
        "TA/TO distribution channel is mostly used and percentage is 79.13%.\n",
        "\n",
        "For year 2016 highest bookings were there for both city and resort hotel.\n",
        "\n",
        "City Hotel generates more revenue in May and Resort Hotel generates more revenue between July and August.\n",
        "\n",
        "GDS channel contributed most in ADR in city hotel and Direct and TA/TO has nearly equal contribution in adr in both hotel types."
      ],
      "metadata": {
        "id": "Fjb1IsQkh3yE"
      }
    },
    {
      "cell_type": "markdown",
      "source": [
        "### ***Hurrah! You have successfully completed your EDA Capstone Project !!!***"
      ],
      "metadata": {
        "id": "gIfDvo9L0UH2"
      }
    }
  ]
}